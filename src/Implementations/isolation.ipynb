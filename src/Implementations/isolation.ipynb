{
 "cells": [
  {
   "cell_type": "code",
   "execution_count": 16,
   "id": "ade29abc-b5da-49a2-a909-c05d0f125a1e",
   "metadata": {},
   "outputs": [
    {
     "name": "stdout",
     "output_type": "stream",
     "text": [
      "-71*x^5 + 1354*x^4 - 9253*x^3 + 26546*x^2 - 26616*x + 840\n",
      "-76235669504*x^5 + 22716350464*x^4 - 2425618432*x^3 + 108732416*x^2 - 1703424*x + 840\n",
      "ajoute intervalle c= 0  k= 5\n",
      "ajoute intervalle c= 1  k= 5\n",
      "ajoute intervalle c= 4  k= 6\n",
      "ajoute intervalle c= 5  k= 6\n",
      "ajoute intervalle c= 3  k= 5\n",
      "[ 0 , 1/32 ]\n",
      "[ 1/32 , 1/16 ]\n",
      "[ 1/16 , 5/64 ]\n",
      "[ 5/64 , 3/32 ]\n",
      "[ 3/32 , 1/8 ]\n",
      "[(0, 5, 1), (1, 5, 1), (4, 6, 1), (5, 6, 1), (3, 5, 1)]\n"
     ]
    }
   ],
   "source": [
    "def nombre_variations_signe(coeffs):\n",
    "    variations = 0\n",
    "    for i in range(len(coeffs) - 1):\n",
    "        if coeffs[i] * coeffs[i + 1] < 0:\n",
    "            variations += 1\n",
    "    return variations\n",
    "\n",
    "\n",
    "## sol = (c,k,h) : [c/2**k , (c+h)/2**k]\n",
    "\n",
    "\n",
    "def bisection_recursif(c,k,pol,isol):\n",
    "    if pol(0)==0:\n",
    "        pol=pol/x\n",
    "        isol.append((c,k,0))\n",
    "        \n",
    "    var_change= pol.reverse()\n",
    "    var_change = var_change(x+1)\n",
    "\n",
    "    #int(\"var changed: \",var_change)\n",
    "    #print()\n",
    "    v = nombre_variations_signe(var_change.numerator().coefficients(sparse=False))\n",
    "    if v==1:\n",
    "        print(\"ajoute intervalle c=\",c,\" k=\",k)\n",
    "        isol.append((c,k,1))\n",
    "    if v>1:\n",
    "        #print(\"gauche = \",pol(x/2))\n",
    "        #print(\"droite = \",pol((x+1)/2))\n",
    "        bisection_recursif(2*c, k+1, pol(x/2),isol)\n",
    "        bisection_recursif(2*c+1, k+1, pol((x+1)/2),isol)\n",
    "\n",
    "\n",
    "r.<x>=PolynomialRing(QQ)\n",
    "\n",
    "#pol=(-71/840)*x**5+(677/420)*x**4-(9253/840)*x**3+(13273/420)*x**2-(1109/35)*x+1\n",
    "pol=(-71)*x**5+(1354)*x**4-(9253)*x**3+(26546)*x**2-(26616)*x+840\n",
    "\n",
    "print(pol)\n",
    "\n",
    "## 14 borne un peu au hasard sur les racine pour passer sur [0,1]\n",
    "pol=pol(x*2**6)\n",
    "\n",
    "print(pol)\n",
    "\n",
    "isol=[]\n",
    "bisection_recursif(0,0,pol,isol)\n",
    "\n",
    "for (c,k,h) in isol:\n",
    "    print(\"[\",c/2**k,\",\",(c+h)/2**k,\"]\")\n",
    "print(isol)\n",
    "\n",
    "  "
   ]
  },
  {
   "cell_type": "code",
   "execution_count": null,
   "id": "a1dc797a-e6a4-47b0-8d14-1d10b8e070ee",
   "metadata": {},
   "outputs": [],
   "source": []
  }
 ],
 "metadata": {
  "kernelspec": {
   "display_name": "SageMath 10.5",
   "language": "sage",
   "name": "sagemath"
  },
  "language_info": {
   "codemirror_mode": {
    "name": "ipython",
    "version": 3
   },
   "file_extension": ".py",
   "mimetype": "text/x-python",
   "name": "python",
   "nbconvert_exporter": "python",
   "pygments_lexer": "ipython3",
   "version": "3.12.3"
  }
 },
 "nbformat": 4,
 "nbformat_minor": 5
}
