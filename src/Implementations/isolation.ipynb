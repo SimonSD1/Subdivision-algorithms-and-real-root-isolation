{
 "cells": [
  {
   "cell_type": "code",
   "execution_count": 34,
   "id": "ade29abc-b5da-49a2-a909-c05d0f125a1e",
   "metadata": {},
   "outputs": [
    {
     "name": "stdout",
     "output_type": "stream",
     "text": [
      "[(0, 1, 1), (1, 1, 1)]\n"
     ]
    }
   ],
   "source": [
    "def nombre_variations_signe(coeffs):\n",
    "    variations = 0\n",
    "    for i in range(len(coeffs) - 1):\n",
    "        if coeffs[i] * coeffs[i + 1] < 0:\n",
    "            variations += 1\n",
    "    return variations\n",
    "\n",
    "\n",
    "def bisection_recursif(c,k,pol,isol):\n",
    "    if pol(0)==0:\n",
    "        pol=pol/x\n",
    "        isol.append((c,k,0))\n",
    "        \n",
    "    var_change= pol(1/(x+1))\n",
    "    v = nombre_variations_signe(var_change.numerator().coefficients(sparse=False))\n",
    "    \n",
    "    if v==1:\n",
    "        isol.append((c,k,1))\n",
    "    if v>1:\n",
    "        bisection_recursif(2*c, k+1, pol(x/2),isol)\n",
    "        bisection_recursif(2*c+1, k+1, pol((x+1)/2),isol)\n",
    "\n",
    "r.<x>=PolynomialRing(QQ)\n",
    "\n",
    "pol=-(x-10)**2+10\n",
    "\n",
    "## 14 borne un peu au hasard sur les racine pour passer sur [0,1]\n",
    "pol=pol(x*14)\n",
    "\n",
    "isol=[]\n",
    "bisection_recursif(0,0,pol,isol)\n",
    "print(isol)\n",
    "\n",
    "\n"
   ]
  }
 ],
 "metadata": {
  "kernelspec": {
   "display_name": "SageMath 10.5",
   "language": "sage",
   "name": "sagemath"
  },
  "language_info": {
   "codemirror_mode": {
    "name": "ipython",
    "version": 3
   },
   "file_extension": ".py",
   "mimetype": "text/x-python",
   "name": "python",
   "nbconvert_exporter": "python",
   "pygments_lexer": "ipython3",
   "version": "3.12.3"
  }
 },
 "nbformat": 4,
 "nbformat_minor": 5
}
